{
 "cells": [
  {
   "cell_type": "code",
   "execution_count": 27,
   "id": "c9eba6c9-202f-48e4-9a3a-ec9661bc1786",
   "metadata": {
    "tags": []
   },
   "outputs": [],
   "source": [
    "#Jupyter Notebook/ In[1]\n",
    "import requests"
   ]
  },
  {
   "cell_type": "code",
   "execution_count": 28,
   "id": "6d708701-8aba-4fc9-9358-02202cdea990",
   "metadata": {
    "tags": []
   },
   "outputs": [
    {
     "data": {
      "text/plain": [
       "<bound method Response.raise_for_status of <Response [200]>>"
      ]
     },
     "execution_count": 28,
     "metadata": {},
     "output_type": "execute_result"
    }
   ],
   "source": [
    "# Jupyter Notebook/ In[2]\n",
    "URL = \"http://127.0.0.1:5000/\"\n",
    "response = requests.get(URL)\n",
    "response.raise_for_status"
   ]
  },
  {
   "cell_type": "code",
   "execution_count": 29,
   "id": "c23c15c0-ef39-47b1-a9d6-ed0dc9683379",
   "metadata": {
    "tags": []
   },
   "outputs": [
    {
     "data": {
      "text/plain": [
       "b'{\\n  \"usage\": \"/dict?=<word>\"\\n}\\n'"
      ]
     },
     "execution_count": 29,
     "metadata": {},
     "output_type": "execute_result"
    }
   ],
   "source": [
    "# Jupyter Notebook/ In[3]\n",
    "response.content"
   ]
  },
  {
   "cell_type": "code",
   "execution_count": 30,
   "id": "9624ff29-d1e9-4053-a81a-d4c6c583ea78",
   "metadata": {
    "tags": []
   },
   "outputs": [
    {
     "data": {
      "text/plain": [
       "{'usage': '/dict?=<word>'}"
      ]
     },
     "execution_count": 30,
     "metadata": {},
     "output_type": "execute_result"
    }
   ],
   "source": [
    "# Jupyter Notebook/ In[4]\n",
    "import json\n",
    "data = response.content.decode( \"utf-8\" )\n",
    "data = json.loads(data)\n",
    "data"
   ]
  },
  {
   "cell_type": "code",
   "execution_count": 33,
   "id": "e17836a8-3c9c-4f0b-b84f-bcbe08168106",
   "metadata": {
    "tags": []
   },
   "outputs": [
    {
     "data": {
      "text/plain": [
       "{'data': [['class',\n",
       "   'n.',\n",
       "   'A group of individuals ranked together as possessing common\\n   characteristics; as, the different classes of society; the educated\\n   class; the lower classes.'],\n",
       "  ['class',\n",
       "   'n.',\n",
       "   'A number of students in a school or college, of the same\\n   standing, or pursuing the same studies.'],\n",
       "  ['class',\n",
       "   'n.',\n",
       "   'A comprehensive division of animate or inanimate objects,\\n   grouped together on account of their common characteristics, in any\\n   classification in natural science, and subdivided into orders,\\n   families, tribes, genera, etc.'],\n",
       "  ['class', 'n.', 'A set; a kind or description, species or variety.'],\n",
       "  ['class',\n",
       "   'n.',\n",
       "   'One of the sections into which a church or congregation is\\n   divided, and which is under the supervision of a class leader.'],\n",
       "  ['class',\n",
       "   'n.',\n",
       "   'To arrange in classes; to classify or refer to some class;\\n   as, to class words or passages.'],\n",
       "  ['class',\n",
       "   'n.',\n",
       "   'To divide into classes, as students; to form into, or place\\n   in, a class or classes.'],\n",
       "  ['class', 'v. i.', 'To grouped or classed.']],\n",
       " 'status': 'success'}"
      ]
     },
     "execution_count": 33,
     "metadata": {},
     "output_type": "execute_result"
    }
   ],
   "source": [
    "# Jupyter Notebook / In[1]\n",
    "import requests\n",
    "import json\n",
    "URL = \"http://127.0.0.1:5000/dict?word=class\"\n",
    "response = requests.get(URL)\n",
    "data = json.loads(response.content.decode( \"utf-8\" ))\n",
    "data"
   ]
  },
  {
   "cell_type": "code",
   "execution_count": null,
   "id": "2ed136a2-5067-45db-9240-7411c506773e",
   "metadata": {},
   "outputs": [],
   "source": []
  }
 ],
 "metadata": {
  "kernelspec": {
   "display_name": "Python 3 (ipykernel)",
   "language": "python",
   "name": "python3"
  },
  "language_info": {
   "codemirror_mode": {
    "name": "ipython",
    "version": 3
   },
   "file_extension": ".py",
   "mimetype": "text/x-python",
   "name": "python",
   "nbconvert_exporter": "python",
   "pygments_lexer": "ipython3",
   "version": "3.10.6"
  }
 },
 "nbformat": 4,
 "nbformat_minor": 5
}
