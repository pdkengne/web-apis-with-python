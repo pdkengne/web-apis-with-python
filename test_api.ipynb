{
 "cells": [
  {
   "cell_type": "code",
   "execution_count": 9,
   "id": "d409d4be-930a-48eb-a970-08d73a38d2dd",
   "metadata": {
    "tags": []
   },
   "outputs": [],
   "source": [
    "# Jupyter Notebook/ In[1]\n",
    "import aiohttp\n",
    "import time\n",
    "import asyncio\n",
    "import requests\n"
   ]
  },
  {
   "cell_type": "code",
   "execution_count": 10,
   "id": "f125fb5e-ba3c-4c8a-a3da-5d112246dc71",
   "metadata": {
    "tags": []
   },
   "outputs": [
    {
     "name": "stdout",
     "output_type": "stream",
     "text": [
      "Time: 0.046201229095458984\n"
     ]
    }
   ],
   "source": [
    "# Jupyter Notebook/ In[2]\n",
    "URL = \"http://127.0.0.1:8000\"\n",
    "start = time.time()\n",
    "results = []\n",
    "for i in range( 10 ):\n",
    "    results.append(requests.post( URL ).content)\n",
    "print( f\"Time: { time.time() - start }\" )\n"
   ]
  },
  {
   "cell_type": "code",
   "execution_count": 11,
   "id": "e7d7af9b-f417-440c-b767-0e2f68aaab43",
   "metadata": {
    "tags": []
   },
   "outputs": [],
   "source": [
    "# Jupyter Notebook/ In[3]\n",
    "URLS = []\n",
    "for i in range( 10 ):\n",
    "    URLS.append( \"http://127.0.0.1:8000\" )\n",
    "    async def test( URL ):\n",
    "        async with aiohttp.ClientSession() as session :\n",
    "            async with session.post( URL ) as resp :\n",
    "                return await resp.text()\n"
   ]
  },
  {
   "cell_type": "code",
   "execution_count": 18,
   "id": "df0eceaf-0295-47c4-a548-5b077ff10948",
   "metadata": {
    "tags": []
   },
   "outputs": [
    {
     "name": "stdout",
     "output_type": "stream",
     "text": [
      "Time: 0.017028331756591797\n"
     ]
    }
   ],
   "source": [
    "# Jupyter Notebook/ In[4]\n",
    "start = time.time()\n",
    "loop = asyncio.get_event_loop()\n",
    "results = await asyncio.gather(*[ loop.create_task( test( URL )) for URL in URLS ] )\n",
    "print( f\"Time: { time.time() - start }\" )"
   ]
  },
  {
   "cell_type": "code",
   "execution_count": null,
   "id": "df868cb0-3203-43b6-a9f2-610b879bb29d",
   "metadata": {},
   "outputs": [],
   "source": []
  }
 ],
 "metadata": {
  "kernelspec": {
   "display_name": "Python 3 (ipykernel)",
   "language": "python",
   "name": "python3"
  },
  "language_info": {
   "codemirror_mode": {
    "name": "ipython",
    "version": 3
   },
   "file_extension": ".py",
   "mimetype": "text/x-python",
   "name": "python",
   "nbconvert_exporter": "python",
   "pygments_lexer": "ipython3",
   "version": "3.10.6"
  }
 },
 "nbformat": 4,
 "nbformat_minor": 5
}
